{
  "cells": [
    {
      "cell_type": "markdown",
      "metadata": {
        "id": "W80kP_NwUMhF"
      },
      "source": [
        "## Descrição do Problema \n",
        "O problema do caixeiro viajante pode ser definido da seguinte forma: para uma determinada lista de bairros tendo as coordenadas exatas de latitude e longitude, podemos medir as distâncias entre cada par delas. Buscamos encontrar a rota mais curta possível que vai a cada bairro uma vez e retorna ao bairro de origem.\n",
        "\n",
        "Existe uma classe de Problemas do Caixeiro Viajante que assume que a distância de ir do bairro $i$ para o bairro $j$ é a mesma que ir do bairro $j$ para o bairro $i$, este tipo de Problema do Caixeiro Viajante também é conhecido como o Problema do Caixeiro Viajante simétrico. Neste exemplo, usamos distâncias euclidianas, mas a formulação do modelo TSP é válida independentemente da forma como as distâncias individuais são determinadas.\n",
        "\n",
        "## Solução Escolhida\n",
        "\n",
        "A programação matemática é uma abordagem declarativa em que o modelador formula um modelo de otimização matemática que captura os principais aspectos de um problema de decisão complexo. O Gurobi Optimizer resolve esses modelos usando matemática e ciência da computação de última geração.\n",
        "\n",
        "Um modelo de otimização matemática tem cinco componentes, os seguintes:\n",
        "\n",
        "* Conjuntos e índices.\n",
        "* Parâmetros.\n",
        "* Variáveis ​​de decisão.\n",
        "* Função(ões) objetiva(s).\n",
        "* Restrições.\n",
        "\n",
        "Respeitando esse modelo visto na aula de Pesquisa Operacional, apresentamos à seguir uma formulação que identifica a rota mais curta passando por todos os bairros/endereços apenas uma vez e retornando ao bairro de origem.\n",
        "\n",
        "## Aplicando a fórmula \n",
        "\n",
        "### Conjuntos e índices\n",
        "$i, j \\in Bairros $: indices e conjuntos de endereço anexado por bairro.\n",
        "\n",
        "$\\text{Pairings}= \\{(i,j) \\in Bairros \\times Bairros \\}$: Conjunto de pares permitidos\n",
        "\n",
        "$S \\subset Bairros$: Um subconjunto do conjunto de bairros de Curitiba.\n",
        "\n",
        "$G = (Bairros, Pairings)$: Um grafo onde o conjunto $Bairros$ define o conjunto de nós e o conjunto $Pairings$ define o conjunto de arestas. \n",
        "\n",
        "### Parâmetros\n",
        "\n",
        "$d_{i, j} \\in \\mathbb{R}^+$: Distância do bairro $i$ ao bairro $j$, para todos os  $(i, j) \\in Pares$. \n",
        "\n",
        "Observe que a distância do bairro $i$ ao bairro $j$ é a mesma que a distância do bairro $j$ ao bairro$i$, ou seja, $d_{i, j} = d_{j, i} $. Por esta razão, este problema do Caixeiro Viajante também é chamado de Problema do Caixeiro Viajante simétrico.\n",
        "\n",
        "### Variavéis de decisão\n",
        "$x_{i, j} \\in \\{0, 1\\}$: Esta variável é igual a 1, se decidirmos conectar o bairro $i$ com o bairro $j$. Caso contrário, a variável de decisão é igual a zero.\n",
        "\n",
        "### Função Objetivo\n",
        "- **Rota mais curta**. Minimize a distância total de uma rota. Uma rota é uma sequência de bairros onde o entregador de pizza precisa visitar cada endereço apenas uma vez e retornar ao bairro inicial.\n",
        "\n",
        "\\begin{equation}\n",
        "\\text{Min} \\quad Z = \\sum_{(i,j) \\in \\text{Conjuntos}}d_{i,j} \\cdot x_{i,j}\n",
        "\\tag{0}\n",
        "\\end{equation}\n",
        "\n",
        "### Restrições\n",
        "- **Restrições de simetria**. Para cada aresta $(i,j)$, certifique-se de que os bairros da cidade $i$ e $j$ estejam conectados, se o primeiro for visitado imediatamente antes ou depois da visita ao segundo.\n",
        "\n",
        "\\begin{equation}\n",
        "x_{i, j} = x_{j, i} \\quad \\forall (i, j) \\in Conjuntos\n",
        "\\tag{1}\n",
        "\\end{equation}\n",
        "\n",
        "- **Entrada e saída de um bairro**. Para cada bairro $i$, certifique-se de que este endereço esteja conectado a dois outros endereços.\n",
        "\n",
        "\\begin{equation}\n",
        "\\sum_{(i,j) \\in \\text{Conjuntos}}x_{i,j} = 2 \\quad \\forall  i \\in Bairros\n",
        "\\tag{2}\n",
        "\\end{equation}\n",
        "\n",
        "- **Eliminação de Sub-rotas**. Essas restrições garantem que para qualquer subconjunto de endereços $S$ do conjunto de $Bairros$, não haja ciclo. Ou seja, não há uma rota que visite todas os endereços do subconjunto e retorne ao endereço de origem.\n",
        "\n",
        "\\begin{equation}\n",
        "\\sum_{(i \\neq j) \\in S}x_{i,j} \\leq |S|-1 \\quad \\forall  S \\subset  Bairros\n",
        "\\tag{3}\n",
        "\\end{equation}\n",
        "\n",
        "- **Observação**. Em geral, se o número de bairros do problema é $n$, então o número possível de rotas é n\\!.\n",
        "Como há um número exponencial de restrições ($2^{n} - 2$) para eliminar ciclos, usamos restrições preguiçosas para eliminar esses ciclos dinamicamente."
      ]
    },
    {
      "cell_type": "code",
      "execution_count": 19,
      "metadata": {
        "id": "CFqmBm5UDcDy"
      },
      "outputs": [],
      "source": [
        "# -- ORGANIZAÇÃO --\n",
        "# Criar base de dados, no nosso caso bairros com as coordenadas de latitude e longitude do cliente que espera a pizza\n",
        "# Calcular a distância entre todos os endereços marcados, com a combinação de todas entregas que o motoboy precisa fazer\n",
        "# \"só\" aplicar o modelo de resolução do caixeiro viajante (TSP) isso desconsiderando sub-grafos conforme anotado nas restrições\n",
        "# mostrar graficamente a solução e o mapeamento dos dados feito "
      ]
    },
    {
      "cell_type": "code",
      "execution_count": 20,
      "metadata": {
        "colab": {
          "base_uri": "https://localhost:8080/"
        },
        "id": "2vpZmOR5DJla",
        "outputId": "43369c77-9c59-4b13-c3c4-dc101653adec"
      },
      "outputs": [
        {
          "name": "stdout",
          "output_type": "stream",
          "text": [
            "Looking in indexes: https://pypi.org/simple, https://us-python.pkg.dev/colab-wheels/public/simple/\n",
            "Requirement already satisfied: gurobipy in /usr/local/lib/python3.7/dist-packages (9.5.2)\n"
          ]
        }
      ],
      "source": [
        "# gurobipy: provides Gurobi algorithms to solve MIP models.\n",
        "\n",
        "%pip install gurobipy"
      ]
    },
    {
      "cell_type": "code",
      "execution_count": 21,
      "metadata": {
        "id": "-2WAMD-WGNC7"
      },
      "outputs": [],
      "source": [
        "# BASE DE DADOS \n",
        "\n",
        "# Clientes mapeados para esta entrega específica de 5 pizzas. (Endereços de Mc Donalds variados na cidade de Curitiba)\n",
        "# Passando por todos os pontos apenas uma vez e retornando ao ponto de origem ao final.\n",
        "\n",
        "bairros = ['Cidade Industrial', 'Merces', 'Taruma', 'Centro', 'Batel']\n",
        "coordenadas = {'Cidade Industrial': (-25.451551, -49.361174), \n",
        "               'Merces': (-25.421260, -49.291859), \n",
        "               'Taruma': (-25.436057, -49.235399), \n",
        "               'Centro': (-25.430311, -49.269434), \n",
        "               'Batel': (-25.439615, -49.280065)}"
      ]
    },
    {
      "cell_type": "code",
      "execution_count": 22,
      "metadata": {
        "id": "a3nQFtHFLTRh"
      },
      "outputs": [],
      "source": [
        "# CÁLCULO DE DISTÂNCIA \n",
        "\n",
        "import math\n",
        "from itertools import combinations\n",
        "\n",
        "# Calcula a matriz de distâncias em pares\n",
        "\n",
        "def distance(city1, city2):\n",
        "    c1 = coordenadas[city1]\n",
        "    c2 = coordenadas[city2]\n",
        "    diff = (c1[0]-c2[0], c1[1]-c2[1])\n",
        "    return math.sqrt(diff[0]*diff[0]+diff[1]*diff[1])\n",
        "\n",
        "dist = {(c1, c2): distance(c1, c2) for c1, c2 in combinations(bairros, 2)}"
      ]
    },
    {
      "cell_type": "code",
      "execution_count": 23,
      "metadata": {
        "colab": {
          "base_uri": "https://localhost:8080/"
        },
        "id": "w6p-dcYdLhut",
        "outputId": "f1b7173b-0933-44b6-9dba-332fc04474bd"
      },
      "outputs": [
        {
          "data": {
            "text/plain": [
              "{('Cidade Industrial', 'Merces'): 0.0756446555018882,\n",
              " ('Cidade Industrial', 'Taruma'): 0.12672574584905477,\n",
              " ('Cidade Industrial', 'Centro'): 0.0941666883775798,\n",
              " ('Cidade Industrial', 'Batel'): 0.08198254678283436,\n",
              " ('Merces', 'Taruma'): 0.05836679543199361,\n",
              " ('Merces', 'Centro'): 0.024182663749062795,\n",
              " ('Merces', 'Batel'): 0.02181752646383251,\n",
              " ('Taruma', 'Centro'): 0.03451662991950023,\n",
              " ('Taruma', 'Batel'): 0.04480748732075853,\n",
              " ('Centro', 'Batel'): 0.014127369783511737}"
            ]
          },
          "execution_count": 23,
          "metadata": {},
          "output_type": "execute_result"
        }
      ],
      "source": [
        "# Imprimindo a Matriz\n",
        "dist"
      ]
    },
    {
      "cell_type": "code",
      "execution_count": 24,
      "metadata": {
        "id": "-u_B0IZZFVgW"
      },
      "outputs": [],
      "source": [
        "import gurobipy as gp\n",
        "from gurobipy import GRB\n",
        "\n",
        "m = gp.Model()\n",
        "\n",
        "# Variáveis: o bairro 'i' é adjacente ao bairro 'j' no passeio?\n",
        "vars = m.addVars(dist.keys(), obj=dist, vtype=GRB.BINARY, name='x')\n",
        "\n",
        "# Direção simétrica: Copie o objeto\n",
        "for i, j in vars.keys():\n",
        "    vars[j, i] = vars[i, j]  # aresta na direção oposta\n",
        "\n",
        "# Restrições: duas arestas incidentes em cada bairro\n",
        "cons = m.addConstrs(vars.sum(c, '*') == 2 for c in bairros)"
      ]
    },
    {
      "cell_type": "code",
      "execution_count": 31,
      "metadata": {
        "id": "7xSUeXvffsJl"
      },
      "outputs": [],
      "source": [
        "# Callback - usando restrições preguiçosas para eliminar sub-rotas ; sub-grafos\n",
        "\n",
        "def subtourelim(model, where):\n",
        "    if where == GRB.Callback.MIPSOL:\n",
        "        # lista de arestas selecionadas na solução\n",
        "        vals = model.cbGetSolution(model._vars)\n",
        "        selected = gp.tuplelist((i, j) for i, j in model._vars.keys()\n",
        "                             if vals[i, j] > 0.5)\n",
        "        # encontra o ciclo mais curto na lista de arestas selecionada\n",
        "        tour = subtour(selected)\n",
        "        if len(tour) < len(bairros):\n",
        "            # adiciona a eliminação da sub-rota constr. para cada par de bairros na sub-rota\n",
        "            model.cbLazy(gp.quicksum(model._vars[i, j] for i, j in combinations(tour, 2))\n",
        "                         <= len(tour)-1)\n",
        "\n",
        "# Dada uma tuplelist de arestas, encontre a sub-rota mais curta\n",
        "\n",
        "def subtour(edges):\n",
        "    unvisited = bairros[:]\n",
        "    cycle = bairros[:] # Dummy - substituição garantida\n",
        "    while unvisited:  # true se a lista não estiver vazia\n",
        "        thiscycle = []\n",
        "        neighbors = unvisited\n",
        "        while neighbors:\n",
        "            current = neighbors[0]\n",
        "            thiscycle.append(current)\n",
        "            unvisited.remove(current)\n",
        "            neighbors = [j for i, j in edges.select(current, '*')\n",
        "                         if j in unvisited]\n",
        "        if len(thiscycle) <= len(cycle):\n",
        "            cycle = thiscycle # Nova sub-rota mais curta\n",
        "    return cycle"
      ]
    },
    {
      "cell_type": "code",
      "execution_count": 32,
      "metadata": {
        "colab": {
          "base_uri": "https://localhost:8080/"
        },
        "id": "pZkhxnk_MbYu",
        "outputId": "95e3119f-3fd3-47cf-e223-218aa92b30cd"
      },
      "outputs": [
        {
          "name": "stdout",
          "output_type": "stream",
          "text": [
            "Gurobi Optimizer version 9.5.2 build v9.5.2rc0 (linux64)\n",
            "Thread count: 1 physical cores, 2 logical processors, using up to 2 threads\n",
            "Optimize a model with 5 rows, 10 columns and 20 nonzeros\n",
            "Model fingerprint: 0x5f146100\n",
            "Variable types: 0 continuous, 10 integer (10 binary)\n",
            "Coefficient statistics:\n",
            "  Matrix range     [1e+00, 1e+00]\n",
            "  Objective range  [1e-02, 1e-01]\n",
            "  Bounds range     [1e+00, 1e+00]\n",
            "  RHS range        [2e+00, 2e+00]\n",
            "Presolved: 5 rows, 10 columns, 20 nonzeros\n",
            "\n",
            "Continuing optimization...\n",
            "\n",
            "\n",
            "Explored 1 nodes (4 simplex iterations) in 0.02 seconds (0.00 work units)\n",
            "Thread count was 2 (of 2 available processors)\n",
            "\n",
            "Solution count 1: 0.261134 \n",
            "\n",
            "Optimal solution found (tolerance 1.00e-04)\n",
            "Best objective 2.611339832740e-01, best bound 2.611339832740e-01, gap 0.0000%\n",
            "\n",
            "User-callback calls 24, time in user-callback 0.00 sec\n"
          ]
        }
      ],
      "source": [
        "# Relatório da busca feita\n",
        "m._vars = vars\n",
        "m.Params.lazyConstraints = 1\n",
        "m.optimize(subtourelim)"
      ]
    },
    {
      "cell_type": "code",
      "execution_count": 33,
      "metadata": {
        "id": "bi1Rnt97Mlf4"
      },
      "outputs": [],
      "source": [
        "# Prova real da solução\n",
        "\n",
        "vals = m.getAttr('x', vars)\n",
        "selected = gp.tuplelist((i, j) for i, j in vals.keys() if vals[i, j] > 0.5)\n",
        "\n",
        "tour = subtour(selected)\n",
        "assert len(tour) == len(bairros)"
      ]
    },
    {
      "cell_type": "code",
      "execution_count": 34,
      "metadata": {
        "colab": {
          "base_uri": "https://localhost:8080/",
          "height": 1000
        },
        "id": "1c_mzv1rMqOb",
        "outputId": "bc5d3132-a1b6-4695-fd9d-b3d9e04d99ad"
      },
      "outputs": [
        {
          "data": {
            "text/html": [
              "<div style=\"width:100%;\"><div style=\"position:relative;width:100%;height:0;padding-bottom:60%;\"><span style=\"color:#565656\">Make this Notebook Trusted to load map: File -> Trust Notebook</span><iframe srcdoc=\"&lt;!DOCTYPE html&gt;\n",
              "&lt;head&gt;    \n",
              "    &lt;meta http-equiv=&quot;content-type&quot; content=&quot;text/html; charset=UTF-8&quot; /&gt;\n",
              "    \n",
              "        &lt;script&gt;\n",
              "            L_NO_TOUCH = false;\n",
              "            L_DISABLE_3D = false;\n",
              "        &lt;/script&gt;\n",
              "    \n",
              "    &lt;style&gt;html, body {width: 100%;height: 100%;margin: 0;padding: 0;}&lt;/style&gt;\n",
              "    &lt;style&gt;#map {position:absolute;top:0;bottom:0;right:0;left:0;}&lt;/style&gt;\n",
              "    &lt;script src=&quot;https://cdn.jsdelivr.net/npm/leaflet@1.6.0/dist/leaflet.js&quot;&gt;&lt;/script&gt;\n",
              "    &lt;script src=&quot;https://code.jquery.com/jquery-1.12.4.min.js&quot;&gt;&lt;/script&gt;\n",
              "    &lt;script src=&quot;https://maxcdn.bootstrapcdn.com/bootstrap/3.2.0/js/bootstrap.min.js&quot;&gt;&lt;/script&gt;\n",
              "    &lt;script src=&quot;https://cdnjs.cloudflare.com/ajax/libs/Leaflet.awesome-markers/2.0.2/leaflet.awesome-markers.js&quot;&gt;&lt;/script&gt;\n",
              "    &lt;link rel=&quot;stylesheet&quot; href=&quot;https://cdn.jsdelivr.net/npm/leaflet@1.6.0/dist/leaflet.css&quot;/&gt;\n",
              "    &lt;link rel=&quot;stylesheet&quot; href=&quot;https://maxcdn.bootstrapcdn.com/bootstrap/3.2.0/css/bootstrap.min.css&quot;/&gt;\n",
              "    &lt;link rel=&quot;stylesheet&quot; href=&quot;https://maxcdn.bootstrapcdn.com/bootstrap/3.2.0/css/bootstrap-theme.min.css&quot;/&gt;\n",
              "    &lt;link rel=&quot;stylesheet&quot; href=&quot;https://maxcdn.bootstrapcdn.com/font-awesome/4.6.3/css/font-awesome.min.css&quot;/&gt;\n",
              "    &lt;link rel=&quot;stylesheet&quot; href=&quot;https://cdnjs.cloudflare.com/ajax/libs/Leaflet.awesome-markers/2.0.2/leaflet.awesome-markers.css&quot;/&gt;\n",
              "    &lt;link rel=&quot;stylesheet&quot; href=&quot;https://cdn.jsdelivr.net/gh/python-visualization/folium/folium/templates/leaflet.awesome.rotate.min.css&quot;/&gt;\n",
              "    \n",
              "            &lt;meta name=&quot;viewport&quot; content=&quot;width=device-width,\n",
              "                initial-scale=1.0, maximum-scale=1.0, user-scalable=no&quot; /&gt;\n",
              "            &lt;style&gt;\n",
              "                #map_243db6318e53bd75778d304b6d5e2a23 {\n",
              "                    position: relative;\n",
              "                    width: 100.0%;\n",
              "                    height: 100.0%;\n",
              "                    left: 0.0%;\n",
              "                    top: 0.0%;\n",
              "                }\n",
              "            &lt;/style&gt;\n",
              "        \n",
              "&lt;/head&gt;\n",
              "&lt;body&gt;    \n",
              "    \n",
              "            &lt;div class=&quot;folium-map&quot; id=&quot;map_243db6318e53bd75778d304b6d5e2a23&quot; &gt;&lt;/div&gt;\n",
              "        \n",
              "&lt;/body&gt;\n",
              "&lt;script&gt;    \n",
              "    \n",
              "            var map_243db6318e53bd75778d304b6d5e2a23 = L.map(\n",
              "                &quot;map_243db6318e53bd75778d304b6d5e2a23&quot;,\n",
              "                {\n",
              "                    center: [-25.441105, -49.276855],\n",
              "                    crs: L.CRS.EPSG3857,\n",
              "                    zoom: 12.2,\n",
              "                    zoomControl: true,\n",
              "                    preferCanvas: false,\n",
              "                }\n",
              "            );\n",
              "\n",
              "            \n",
              "\n",
              "        \n",
              "    \n",
              "            var tile_layer_6c7c6205762c5f047d3c3d4961aecc16 = L.tileLayer(\n",
              "                &quot;https://{s}.tile.openstreetmap.org/{z}/{x}/{y}.png&quot;,\n",
              "                {&quot;attribution&quot;: &quot;Data by \\u0026copy; \\u003ca href=\\&quot;http://openstreetmap.org\\&quot;\\u003eOpenStreetMap\\u003c/a\\u003e, under \\u003ca href=\\&quot;http://www.openstreetmap.org/copyright\\&quot;\\u003eODbL\\u003c/a\\u003e.&quot;, &quot;detectRetina&quot;: false, &quot;maxNativeZoom&quot;: 18, &quot;maxZoom&quot;: 18, &quot;minZoom&quot;: 0, &quot;noWrap&quot;: false, &quot;opacity&quot;: 1, &quot;subdomains&quot;: &quot;abc&quot;, &quot;tms&quot;: false}\n",
              "            ).addTo(map_243db6318e53bd75778d304b6d5e2a23);\n",
              "        \n",
              "    \n",
              "            var poly_line_d9819dd4e7cb51cb33036c3748a67cf5 = L.polyline(\n",
              "                [[-25.451551, -49.361174], [-25.42126, -49.291859], [-25.430311, -49.269434], [-25.436057, -49.235399], [-25.439615, -49.280065], [-25.451551, -49.361174]],\n",
              "                {&quot;bubblingMouseEvents&quot;: true, &quot;color&quot;: &quot;#3388ff&quot;, &quot;dashArray&quot;: null, &quot;dashOffset&quot;: null, &quot;fill&quot;: false, &quot;fillColor&quot;: &quot;#3388ff&quot;, &quot;fillOpacity&quot;: 0.2, &quot;fillRule&quot;: &quot;evenodd&quot;, &quot;lineCap&quot;: &quot;round&quot;, &quot;lineJoin&quot;: &quot;round&quot;, &quot;noClip&quot;: false, &quot;opacity&quot;: 1.0, &quot;smoothFactor&quot;: 1.0, &quot;stroke&quot;: true, &quot;weight&quot;: 3}\n",
              "            ).addTo(map_243db6318e53bd75778d304b6d5e2a23);\n",
              "        \n",
              "&lt;/script&gt;\" style=\"position:absolute;width:100%;height:100%;left:0;top:0;border:none !important;\" allowfullscreen webkitallowfullscreen mozallowfullscreen></iframe></div></div>"
            ],
            "text/plain": [
              "<folium.folium.Map at 0x7fcc796b60d0>"
            ]
          },
          "execution_count": 34,
          "metadata": {},
          "output_type": "execute_result"
        }
      ],
      "source": [
        "# Representação gráfica da solução\n",
        "\n",
        "import folium\n",
        "\n",
        "map = folium.Map(location=[-25.441105, -49.276855], zoom_start = 12.2)\n",
        "\n",
        "points = []\n",
        "for bairro in tour:\n",
        "  points.append(coordenadas[bairro])\n",
        "points.append(points[0])\n",
        "\n",
        "folium.PolyLine(points).add_to(map)\n",
        "\n",
        "map"
      ]
    }
  ],
  "metadata": {
    "colab": {
      "collapsed_sections": [],
      "provenance": []
    },
    "kernelspec": {
      "display_name": "Python 3.10.4 64-bit",
      "language": "python",
      "name": "python3"
    },
    "language_info": {
      "name": "python",
      "version": "3.10.4"
    },
    "vscode": {
      "interpreter": {
        "hash": "369f2c481f4da34e4445cda3fffd2e751bd1c4d706f27375911949ba6bb62e1c"
      }
    }
  },
  "nbformat": 4,
  "nbformat_minor": 0
}
